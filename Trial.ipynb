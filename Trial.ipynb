{
 "cells": [
  {
   "cell_type": "markdown",
   "metadata": {},
   "source": [
    "# SMAI, Spring 2022\n",
    "## Project: LeNet Implementation w/o AutoGrad"
   ]
  },
  {
   "cell_type": "code",
   "execution_count": 4,
   "metadata": {},
   "outputs": [
    {
     "name": "stdout",
     "output_type": "stream",
     "text": [
      "Populating the interactive namespace from numpy and matplotlib\n"
     ]
    }
   ],
   "source": [
    "%pylab inline\n",
    "import mnist"
   ]
  },
  {
   "cell_type": "markdown",
   "metadata": {},
   "source": [
    "#### The structure of LeNet\n",
    "<!-- ![LeNet](Images/Lenet_struct.png \"Structure of LeNet compared to AlexNet\") -->\n",
    "<img src=\"Images/Lenet_struct.png\" width=\"400\" height=\"300\">\n",
    "\n",
    "The plan is to implement a main `layer` class that deals with building different layers of the given neural network. This class will use text input to build different types of layers.  "
   ]
  },
  {
   "cell_type": "code",
   "execution_count": 36,
   "metadata": {},
   "outputs": [],
   "source": [
    "class utils():\n",
    "    def padder(data,pad_length):\n",
    "        im = data.copy()\n",
    "        m = im.shape[0]\n",
    "        n = im.shape[1]\n",
    "        M, N = m + 2*pad_length, n + 2*pad_length \n",
    "        im2 = zeros((M,N))\n",
    "        im2[pad_length:m+pad_length , pad_length:n+pad_length] = im[:,:]\n",
    "        \n",
    "        return im2\n",
    "    \n",
    "    def Conv2D(data,kernel,stride =1):\n",
    "        \n",
    "        kernel_size = np.array(np.array(kernel).shape)\n",
    "        im_size = np.array(np.array(im).shape)\n",
    "\n",
    "        final_dim = (im_size - kernel_size)/(stride) + np.array([1,1])\n",
    "        final_im = np.zeros(tuple(final_dim))\n",
    "\n",
    "        for i in range(final_dim[0]):\n",
    "            for j in range(final_dim[1]):\n",
    "                final_im[i][j]= np.sum(np.multiply(im[i:i+kernel_size[0],j:j+kernel_size[1]],kernel))\n",
    "        return final_im\n",
    "\n",
    "    def AvgPool(data,kern_size,stride):\n",
    "        kern = ones/(kern_size)\n",
    "        return self.Conv2D(data,kern,stride)\n",
    "\n",
    "    def softmax(x):\n",
    "        denom = np.sum(np.exp(x))\n",
    "        y = x/denom;\n",
    "        return y\n",
    "\n",
    "    def sigmoid(x):\n",
    "        return 1/(1+np.exp(-x))\n",
    "\n",
    "    def Tanh(x):\n",
    "        a = 1.7159 \n",
    "        s = 2/3\n",
    "        return a*np.tanh(s*x)\n",
    "    \n",
    "    def ReLU(x):\n",
    "        return np.max(x,0)\n",
    "    \n",
    "    def normal(data):\n",
    "        padded = self.padder(data,2)\n",
    "        "
   ]
  },
  {
   "cell_type": "markdown",
   "metadata": {},
   "source": [
    "## Class of layers"
   ]
  },
  {
   "cell_type": "code",
   "execution_count": null,
   "metadata": {},
   "outputs": [],
   "source": [
    "class Layers():\n",
    "    class CONV():\n",
    "        \n",
    "        def forward():\n",
    "\n",
    "            return val\n",
    "\n",
    "\n",
    "        def backward():\n",
    "\n",
    "            return val\n",
    "    \n",
    "    class POOL():\n",
    "        \n",
    "        def forward():\n",
    "        \n",
    "            return val\n",
    "        \n",
    "        def backward():\n",
    "        \n",
    "            return val\n",
    "    \n",
    "    class DENSE():\n",
    "        \n",
    "        def forward():\n",
    "        \n",
    "            return val\n",
    "        \n",
    "        def backward():\n",
    "        \n",
    "            return val\n"
   ]
  },
  {
   "cell_type": "code",
   "execution_count": 10,
   "metadata": {},
   "outputs": [
    {
     "data": {
      "text/plain": [
       "<matplotlib.image.AxesImage at 0x262e28d49d0>"
      ]
     },
     "execution_count": 10,
     "metadata": {},
     "output_type": "execute_result"
    },
    {
     "data": {
      "image/png": "[encoded data removed]",
      "text/plain": [
       "<Figure size 432x288 with 1 Axes>"
      ]
     },
     "metadata": {
      "needs_background": "light"
     },
     "output_type": "display_data"
    }
   ],
   "source": [
    "t = (mnist.test_images())\n",
    "imshow(255- t[0], cmap='gray')"
   ]
  },
  {
   "cell_type": "code",
   "execution_count": null,
   "metadata": {},
   "outputs": [],
   "source": []
  }
 ],
 "metadata": {
  "interpreter": {
   "hash": "0daff1dc3e0c9309a682d6632bce09174730adaee728d6e225f20579eba431a4"
  },
  "kernelspec": {
   "display_name": "Python 3.9.9 64-bit",
   "language": "python",
   "name": "python3"
  },
  "language_info": {
   "codemirror_mode": {
    "name": "ipython",
    "version": 3
   },
   "file_extension": ".py",
   "mimetype": "text/x-python",
   "name": "python",
   "nbconvert_exporter": "python",
   "pygments_lexer": "ipython3",
   "version": "3.9.9"
  },
  "orig_nbformat": 4
 },
 "nbformat": 4,
 "nbformat_minor": 2
}
