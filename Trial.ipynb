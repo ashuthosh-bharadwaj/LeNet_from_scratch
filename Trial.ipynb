{
 "cells": [
  {
   "cell_type": "markdown",
   "metadata": {},
   "source": [
    "# SMAI, Spring 2022\n",
    "## Project: LeNet Implementation w/o AutoGrad"
   ]
  },
  {
   "cell_type": "code",
   "execution_count": 1,
   "metadata": {},
   "outputs": [
    {
     "name": "stdout",
     "output_type": "stream",
     "text": [
      "Populating the interactive namespace from numpy and matplotlib\n"
     ]
    }
   ],
   "source": [
    "%pylab inline\n",
    "import mnist"
   ]
  },
  {
   "cell_type": "markdown",
   "metadata": {},
   "source": [
    "#### The structure of LeNet\n",
    "<!-- ![LeNet](Images/Lenet_struct.png \"Structure of LeNet compared to AlexNet\") -->\n",
    "<img src=\"Images/Lenet_struct.png\" width=\"400\" height=\"300\">\n",
    "\n",
    "The plan is to implement a main `layer` class that deals with building different layers of the given neural network. This class will use text input to build different types of layers.  "
   ]
  },
  {
   "cell_type": "code",
   "execution_count": 6,
   "metadata": {},
   "outputs": [],
   "source": [
    "class utils():\n",
    "    def padder(data,pad_length):\n",
    "        im = data.copy()\n",
    "        m = im.shape[0]\n",
    "        n = im.shape[1]\n",
    "        M, N = m + 2*pad_length, n + 2*pad_length \n",
    "        im2 = zeros((M,N))\n",
    "        im2[pad_length:m+pad_length , pad_length:n+pad_length] = im[:,:]\n",
    "        \n",
    "        return im2\n",
    "    \n",
    "    def convul(data,kern,stride,pad_length):\n",
    "        \n",
    "        k = kern.shape[0]\n",
    "        N = data.shape[0]\n",
    "        # l =  (N - k + )\n",
    "    \n",
    "    def Pool(data,kern_size,stride):\n",
    "        kern = ones/(kern_size)\n",
    "        return self.convul(data)\n",
    "\n",
    "\n",
    "\n",
    "# class Layer():\n",
    "#     def conv(kern, ):"
   ]
  },
  {
   "cell_type": "code",
   "execution_count": 7,
   "metadata": {},
   "outputs": [
    {
     "data": {
      "text/plain": [
       "(28, 28)"
      ]
     },
     "execution_count": 7,
     "metadata": {},
     "output_type": "execute_result"
    },
    {
     "data": {
      "image/png": "[encoded data removed]",
      "text/plain": [
       "<Figure size 432x288 with 1 Axes>"
      ]
     },
     "metadata": {
      "needs_background": "light"
     },
     "output_type": "display_data"
    }
   ],
   "source": [
    "# help(mnist)\n",
    "im = 255 -  mnist.test_images()[0]\n",
    "imshow(utils.padder(im,24), cmap='gray')\n",
    "im.shape\n"
   ]
  }
 ],
 "metadata": {
  "interpreter": {
   "hash": "0daff1dc3e0c9309a682d6632bce09174730adaee728d6e225f20579eba431a4"
  },
  "kernelspec": {
   "display_name": "Python 3.9.9 64-bit",
   "language": "python",
   "name": "python3"
  },
  "language_info": {
   "codemirror_mode": {
    "name": "ipython",
    "version": 3
   },
   "file_extension": ".py",
   "mimetype": "text/x-python",
   "name": "python",
   "nbconvert_exporter": "python",
   "pygments_lexer": "ipython3",
   "version": "3.9.9"
  },
  "orig_nbformat": 4
 },
 "nbformat": 4,
 "nbformat_minor": 2
}
